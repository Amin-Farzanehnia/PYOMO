{
  "nbformat": 4,
  "nbformat_minor": 0,
  "metadata": {
    "colab": {
      "name": "NLP example.ipynb",
      "provenance": [],
      "authorship_tag": "ABX9TyO8LIXMm17xbkm2WDFWFL/6",
      "include_colab_link": true
    },
    "kernelspec": {
      "name": "python3",
      "display_name": "Python 3"
    },
    "language_info": {
      "name": "python"
    }
  },
  "cells": [
    {
      "cell_type": "markdown",
      "metadata": {
        "id": "view-in-github",
        "colab_type": "text"
      },
      "source": [
        "<a href=\"https://colab.research.google.com/github/farzanehnia/PYOMO/blob/main/NLP_example.ipynb\" target=\"_parent\"><img src=\"https://colab.research.google.com/assets/colab-badge.svg\" alt=\"Open In Colab\"/></a>"
      ]
    },
    {
      "cell_type": "code",
      "execution_count": 1,
      "metadata": {
        "id": "9tHu9iS7NeVd"
      },
      "outputs": [],
      "source": [
        "!pip install -q pyomo"
      ]
    },
    {
      "cell_type": "code",
      "source": [
        "import pyomo.environ as pyo\n",
        "from pyomo.environ import *\n",
        "from pyomo.opt import SolverFactory\n",
        "import pandas as pd\n",
        "import time\n",
        "import numpy as np"
      ],
      "metadata": {
        "id": "EERqFPM0NqIT"
      },
      "execution_count": 2,
      "outputs": []
    },
    {
      "cell_type": "code",
      "source": [
        "#model\n",
        "model = pyo.ConcreteModel()\n",
        "\n",
        "model.x = pyo.Var(initialize = 0, bounds=(-5,5))\n",
        "\n",
        "model.y = pyo.Var(initialize = 0,bounds=(-5, 5))\n",
        "\n",
        "x = model.x\n",
        "y = model.y\n",
        "\n",
        "model.x.pprint()\n",
        "cos(30)"
      ],
      "metadata": {
        "colab": {
          "base_uri": "https://localhost:8080/"
        },
        "id": "AcI7nAnMNrT4",
        "outputId": "7d7089a0-29c8-4c84-e014-c1dc1cea9cd8"
      },
      "execution_count": 24,
      "outputs": [
        {
          "output_type": "stream",
          "name": "stdout",
          "text": [
            "x : Size=1, Index=None\n",
            "    Key  : Lower : Value : Upper : Fixed : Stale : Domain\n",
            "    None :    -5 :     0 :     5 : False : False :  Reals\n"
          ]
        },
        {
          "output_type": "execute_result",
          "data": {
            "text/plain": [
              "0.15425144988758405"
            ]
          },
          "metadata": {},
          "execution_count": 24
        }
      ]
    },
    {
      "cell_type": "code",
      "source": [
        "model.obj = pyo.Objective(expr = cos(x+1) + cos(x)*cos(y), sense=maximize)"
      ],
      "metadata": {
        "id": "sqbiIUw5NsnP"
      },
      "execution_count": 25,
      "outputs": []
    },
    {
      "cell_type": "code",
      "source": [
        "!wget -N -q \"https://ampl.com/dl/open/ipopt/ipopt-linux64.zip\"\n",
        "!unzip -o -q ipopt-linux64"
      ],
      "metadata": {
        "id": "kS-yslqgOvLh"
      },
      "execution_count": 19,
      "outputs": []
    },
    {
      "cell_type": "code",
      "source": [
        "begin = time.time()\n",
        "\n",
        "opt = SolverFactory('ipopt', executable='/content/ipopt')    # CBC, Gurobi, Cplex, Glop --> from google\n",
        "opt.options['tol'] = 1e-6\n",
        "results = opt.solve(model)\n",
        "\n",
        "duration = time.time() - begin\n",
        "print('Time passed = {}'.format(duration))"
      ],
      "metadata": {
        "colab": {
          "base_uri": "https://localhost:8080/"
        },
        "id": "69E6cNAePj7H",
        "outputId": "b4991e86-59c0-4bb0-e5bd-b69778fc22c4"
      },
      "execution_count": 26,
      "outputs": [
        {
          "output_type": "stream",
          "name": "stdout",
          "text": [
            "Time passed = 0.03470778465270996\n"
          ]
        }
      ]
    },
    {
      "cell_type": "code",
      "source": [
        "print(results)\n",
        "print('Objective function value ={}'.format(pyo.value(model.obj)))"
      ],
      "metadata": {
        "colab": {
          "base_uri": "https://localhost:8080/"
        },
        "id": "xZEDNPuhPmh_",
        "outputId": "1c7cfc0d-45e8-4ed9-a859-77c04d663a79"
      },
      "execution_count": 27,
      "outputs": [
        {
          "output_type": "stream",
          "name": "stdout",
          "text": [
            "\n",
            "Problem: \n",
            "- Lower bound: -inf\n",
            "  Upper bound: inf\n",
            "  Number of objectives: 1\n",
            "  Number of constraints: 0\n",
            "  Number of variables: 2\n",
            "  Sense: unknown\n",
            "Solver: \n",
            "- Status: ok\n",
            "  Message: Ipopt 3.12.13\\x3a Optimal Solution Found\n",
            "  Termination condition: optimal\n",
            "  Id: 0\n",
            "  Error rc: 0\n",
            "  Time: 0.02547144889831543\n",
            "Solution: \n",
            "- number of solutions: 0\n",
            "  number of solutions displayed: 0\n",
            "\n",
            "Objective function value =1.7551651237807455\n"
          ]
        }
      ]
    },
    {
      "cell_type": "code",
      "source": [
        "model.pprint()"
      ],
      "metadata": {
        "colab": {
          "base_uri": "https://localhost:8080/"
        },
        "id": "vV0ro5sFPoXm",
        "outputId": "7f377abe-587c-4e30-f920-c70ec14297d7"
      },
      "execution_count": 28,
      "outputs": [
        {
          "output_type": "stream",
          "name": "stdout",
          "text": [
            "2 Var Declarations\n",
            "    x : Size=1, Index=None\n",
            "        Key  : Lower : Value                : Upper : Fixed : Stale : Domain\n",
            "        None :    -5 : -0.49999999790726224 :     5 : False : False :  Reals\n",
            "    y : Size=1, Index=None\n",
            "        Key  : Lower : Value : Upper : Fixed : Stale : Domain\n",
            "        None :    -5 :   0.0 :     5 : False : False :  Reals\n",
            "\n",
            "1 Objective Declarations\n",
            "    obj : Size=1, Index=None, Active=True\n",
            "        Key  : Active : Sense    : Expression\n",
            "        None :   True : maximize : cos(x + 1) + cos(x)*cos(y)\n",
            "\n",
            "3 Declarations: x y obj\n"
          ]
        }
      ]
    },
    {
      "cell_type": "code",
      "source": [
        ""
      ],
      "metadata": {
        "id": "rGEKNR-rPvFu"
      },
      "execution_count": null,
      "outputs": []
    }
  ]
}