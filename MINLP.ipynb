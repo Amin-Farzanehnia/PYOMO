{
  "nbformat": 4,
  "nbformat_minor": 0,
  "metadata": {
    "colab": {
      "name": "MINLP.ipynb",
      "provenance": [],
      "authorship_tag": "ABX9TyMd/TjCa2K81k5L5P6hd+T9",
      "include_colab_link": true
    },
    "kernelspec": {
      "name": "python3",
      "display_name": "Python 3"
    },
    "language_info": {
      "name": "python"
    }
  },
  "cells": [
    {
      "cell_type": "markdown",
      "metadata": {
        "id": "view-in-github",
        "colab_type": "text"
      },
      "source": [
        "<a href=\"https://colab.research.google.com/github/farzanehnia/PYOMO/blob/main/MINLP.ipynb\" target=\"_parent\"><img src=\"https://colab.research.google.com/assets/colab-badge.svg\" alt=\"Open In Colab\"/></a>"
      ]
    },
    {
      "cell_type": "code",
      "source": [
        "!pip install -q pyomo;"
      ],
      "metadata": {
        "id": "q0VyIQOTf-Zb"
      },
      "execution_count": 1,
      "outputs": []
    },
    {
      "cell_type": "code",
      "execution_count": 2,
      "metadata": {
        "id": "J-TyzaGaXD0h"
      },
      "outputs": [],
      "source": [
        "import pyomo.environ as pyo\n",
        "from pyomo.environ import *\n",
        "from pyomo.opt import SolverFactory\n",
        "\n",
        "model = pyo.ConcreteModel()\n",
        "\n",
        "model.x = pyo.Var(within=Integers, bounds=(0,10))\n",
        "model.y = pyo.Var(bounds=(0,10))\n",
        "x = model.x\n",
        "y = model.y\n",
        "\n",
        "model.C1 = pyo.Constraint(expr= -x+2*y*x<=8)\n",
        "model.C2 = pyo.Constraint(expr= 2*x+y<=14)\n",
        "model.C3 = pyo.Constraint(expr= 2*x-y<=10)\n"
      ]
    },
    {
      "cell_type": "code",
      "source": [
        "!wget -N -q \"https://ampl.com/dl/open/couenne/couenne-linux64.zip\"\n",
        "!unzip -o -q couenne-linux64"
      ],
      "metadata": {
        "id": "kF8LcA49fngM"
      },
      "execution_count": 3,
      "outputs": []
    },
    {
      "cell_type": "markdown",
      "source": [
        "This would solve it with the couenne solver. opt = SolverFactory('mindtpy')\n",
        "opt.solve(model, mip_solver= 'gurobi', nlp_solver='ipopt')\n",
        "\n",
        "so we define mindtpy as the solver"
      ],
      "metadata": {
        "id": "1WtFOiY-gLcJ"
      }
    },
    {
      "cell_type": "code",
      "source": [
        "model.obj = pyo.Objective(expr= x+y*x, sense=maximize)\n",
        "\n",
        "import sys\n",
        "sys.path.append('/content/couenne')\n",
        "\n",
        "opt = SolverFactory('couenne')\n",
        "opt.solve(model)\n",
        "\n",
        "#model.pprint()\n",
        "\n",
        "x_value = pyo.value(x)\n",
        "y_value = pyo.value(y)\n",
        "\n",
        "print('\\n---------------------------------------------------------------------')\n",
        "print('x=',x_value)\n",
        "print('y=',y_value)"
      ],
      "metadata": {
        "id": "E9xvKfcSfm3q",
        "outputId": "2c68d7a8-26d4-4b42-fcc3-3061c2544797",
        "colab": {
          "base_uri": "https://localhost:8080/"
        }
      },
      "execution_count": 4,
      "outputs": [
        {
          "output_type": "stream",
          "name": "stdout",
          "text": [
            "\n",
            "---------------------------------------------------------------------\n",
            "x= 5.0\n",
            "y= 1.3000000079979999\n"
          ]
        }
      ]
    },
    {
      "cell_type": "markdown",
      "source": [
        "We can also #**mindtpy** to choose 2 solvers for linear and non-linear separately. Because we cannot specify the executeable file we need to add it to the path by using one of the methods !ls 'path'\n",
        "or sys.path.append('path')"
      ],
      "metadata": {
        "id": "7IVZC-VygT2A"
      }
    },
    {
      "cell_type": "code",
      "source": [
        "!wget -N -q \"https://ampl.com/dl/open/ipopt/ipopt-linux64.zip\";\n",
        "!unzip -o -q ipopt-linux64;\n",
        "\n",
        "\n",
        "!ls '/content/ipopt'"
      ],
      "metadata": {
        "id": "fZFjUg2Sf6ED",
        "outputId": "6384aae9-e2c9-4426-b9d6-cd925ca21445",
        "colab": {
          "base_uri": "https://localhost:8080/"
        }
      },
      "execution_count": 5,
      "outputs": [
        {
          "output_type": "stream",
          "name": "stdout",
          "text": [
            "/content/ipopt\n"
          ]
        }
      ]
    },
    {
      "cell_type": "code",
      "source": [
        "!apt-get install -y -qq coinor-cbc;"
      ],
      "metadata": {
        "id": "8DnjWD2igpmK"
      },
      "execution_count": 6,
      "outputs": []
    },
    {
      "cell_type": "code",
      "source": [
        "import sys\n",
        "sys.path.append('/usr/bin/cbc')\n",
        "#sys.path.append('/content/ipopt')\n",
        "\n",
        "model.obj = pyo.Objective(expr= x+y*x, sense=maximize)\n",
        "\n",
        "opt = SolverFactory('mindtpy')\n",
        "opt.solve(model, mip_solver='cbc', nlp_solver='ipopt')\n",
        "\n",
        "model.pprint()\n",
        "\n",
        "x_value = pyo.value(x)\n",
        "y_value = pyo.value(y)\n",
        "\n",
        "print('\\n---------------------------------------------------------------------')\n",
        "print('x=',x_value)\n",
        "print('y=',y_value)"
      ],
      "metadata": {
        "id": "ilMEfogdgsTg",
        "outputId": "2598b944-7a37-4a9a-b8ee-03f1b03a7b2c",
        "colab": {
          "base_uri": "https://localhost:8080/"
        }
      },
      "execution_count": 7,
      "outputs": [
        {
          "output_type": "stream",
          "name": "stdout",
          "text": [
            "WARNING: Implicitly replacing the Component attribute obj (type=<class\n",
            "    'pyomo.core.base.objective.ScalarObjective'>) on block unknown with a new\n",
            "    Component (type=<class 'pyomo.core.base.objective.ScalarObjective'>). This\n",
            "    is usually indicative of a modelling error. To avoid this warning, use\n",
            "    block.del_component() and block.add_component().\n",
            "2 Var Declarations\n",
            "    x : Size=1, Index=None\n",
            "        Key  : Lower : Value : Upper : Fixed : Stale : Domain\n",
            "        None :     0 :   5.0 :    10 : False : False : Integers\n",
            "    y : Size=1, Index=None\n",
            "        Key  : Lower : Value             : Upper : Fixed : Stale : Domain\n",
            "        None :     0 : 1.300000012498684 :    10 : False : False :  Reals\n",
            "\n",
            "1 Objective Declarations\n",
            "    obj : Size=1, Index=None, Active=True\n",
            "        Key  : Active : Sense    : Expression\n",
            "        None :   True : maximize : x + y*x\n",
            "\n",
            "3 Constraint Declarations\n",
            "    C1 : Size=1, Index=None, Active=True\n",
            "        Key  : Lower : Body        : Upper : Active\n",
            "        None :  -Inf : - x + 2*y*x :   8.0 :   True\n",
            "    C2 : Size=1, Index=None, Active=True\n",
            "        Key  : Lower : Body    : Upper : Active\n",
            "        None :  -Inf : 2*x + y :  14.0 :   True\n",
            "    C3 : Size=1, Index=None, Active=True\n",
            "        Key  : Lower : Body    : Upper : Active\n",
            "        None :  -Inf : 2*x - y :  10.0 :   True\n",
            "\n",
            "6 Declarations: x y C1 C2 C3 obj\n",
            "\n",
            "---------------------------------------------------------------------\n",
            "x= 5.0\n",
            "y= 1.300000012498684\n"
          ]
        }
      ]
    },
    {
      "cell_type": "code",
      "source": [
        ""
      ],
      "metadata": {
        "id": "jxyX7IYjhK3-"
      },
      "execution_count": 7,
      "outputs": []
    }
  ]
}