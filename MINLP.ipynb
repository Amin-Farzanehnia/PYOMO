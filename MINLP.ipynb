{
  "nbformat": 4,
  "nbformat_minor": 0,
  "metadata": {
    "colab": {
      "name": "MINLP.ipynb",
      "provenance": [],
      "authorship_tag": "ABX9TyPA0l2bH7//FHlutSCrkkPZ",
      "include_colab_link": true
    },
    "kernelspec": {
      "name": "python3",
      "display_name": "Python 3"
    },
    "language_info": {
      "name": "python"
    }
  },
  "cells": [
    {
      "cell_type": "markdown",
      "metadata": {
        "id": "view-in-github",
        "colab_type": "text"
      },
      "source": [
        "<a href=\"https://colab.research.google.com/github/farzanehnia/PYOMO/blob/main/MINLP.ipynb\" target=\"_parent\"><img src=\"https://colab.research.google.com/assets/colab-badge.svg\" alt=\"Open In Colab\"/></a>"
      ]
    },
    {
      "cell_type": "code",
      "execution_count": null,
      "metadata": {
        "id": "J-TyzaGaXD0h"
      },
      "outputs": [],
      "source": [
        "import pyomo.environ as pyo\n",
        "from pyomo.environ import *\n",
        "from pyomo.opt import SolverFactory\n",
        "\n",
        "model = pyo.ConcreteModel()\n",
        "\n",
        "model.x = pyo.Var(within=Integers, bounds=(0,10))\n",
        "model.y = pyo.Var(bounds=(0,10))\n",
        "x = model.x\n",
        "y = model.y\n",
        "\n",
        "model.C1 = pyo.Constraint(expr= -x+2*y*x<=8)\n",
        "model.C2 = pyo.Constraint(expr= 2*x+y<=14)\n",
        "model.C3 = pyo.Constraint(expr= 2*x-y<=10)\n",
        "\n",
        "model.obj = pyo.Objective(expr= x+y*x, sense=maximize)\n",
        "\n",
        "opt = SolverFactory('couenne', executable='C:\\\\couenne\\\\bin\\\\couenne.exe')\n",
        "opt.solve(model)\n",
        "\n",
        "model.pprint()\n",
        "\n",
        "x_value = pyo.value(x)\n",
        "y_value = pyo.value(y)\n",
        "\n",
        "print('\\n---------------------------------------------------------------------')\n",
        "print('x=',x_value)\n",
        "print('y=',y_value)"
      ]
    }
  ]
}