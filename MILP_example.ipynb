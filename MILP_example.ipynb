{
  "nbformat": 4,
  "nbformat_minor": 0,
  "metadata": {
    "colab": {
      "name": "MILP example.ipynb",
      "provenance": [],
      "authorship_tag": "ABX9TyPSrl5kyP6rRXvCDBevbden",
      "include_colab_link": true
    },
    "kernelspec": {
      "name": "python3",
      "display_name": "Python 3"
    },
    "language_info": {
      "name": "python"
    }
  },
  "cells": [
    {
      "cell_type": "markdown",
      "metadata": {
        "id": "view-in-github",
        "colab_type": "text"
      },
      "source": [
        "<a href=\"https://colab.research.google.com/github/farzanehnia/PYOMO/blob/main/MILP_example.ipynb\" target=\"_parent\"><img src=\"https://colab.research.google.com/assets/colab-badge.svg\" alt=\"Open In Colab\"/></a>"
      ]
    },
    {
      "cell_type": "markdown",
      "source": [
        "###Install pyomo\n",
        "\n",
        "Here is an example of MILP mixed integer linear programming\n",
        "Solvers include: ['gurobi', 'cplex', 'cbc', 'glpk', 'gams', 'gurobi_persistent', 'cplex_persistent'] for linear programming\n",
        "GLOP is a google software used in or-tools not PYOMO.\n",
        "\n",
        "mixed-integer nonlinear programming problems (MINLP), ipopt(NLP)"
      ],
      "metadata": {
        "id": "UX-HECr3RZJV"
      }
    },
    {
      "cell_type": "code",
      "execution_count": null,
      "metadata": {
        "colab": {
          "base_uri": "https://localhost:8080/"
        },
        "id": "A6LYKInKXEz9",
        "outputId": "e21e5348-0ffc-4dbc-915b-31dc636a497f"
      },
      "outputs": [
        {
          "output_type": "stream",
          "name": "stdout",
          "text": [
            "\u001b[K     |████████████████████████████████| 9.6 MB 5.2 MB/s \n",
            "\u001b[K     |████████████████████████████████| 49 kB 4.9 MB/s \n",
            "\u001b[?25h"
          ]
        }
      ],
      "source": [
        "!pip install -q pyomo"
      ]
    },
    {
      "cell_type": "code",
      "source": [
        ""
      ],
      "metadata": {
        "id": "XuVw_2LeRXsv"
      },
      "execution_count": null,
      "outputs": []
    },
    {
      "cell_type": "code",
      "source": [
        "import pyomo.environ as pyo\n",
        "from pyomo.environ import *\n",
        "from pyomo.opt import SolverFactory\n",
        "import pandas as pd\n",
        "import time\n",
        "import numpy as np"
      ],
      "metadata": {
        "id": "5pLGjHrSl_Ol"
      },
      "execution_count": null,
      "outputs": []
    },
    {
      "cell_type": "code",
      "source": [
        "#model\n",
        "model = pyo.ConcreteModel()\n",
        "\n",
        "model.x = pyo.Var(range(1, 6), within=NonNegativeIntegers)\n",
        "\n",
        "model.y = pyo.Var(bounds=(0, None))\n",
        "\n",
        "x = model.x\n",
        "y = model.y\n",
        "\n",
        "model.x.pprint()\n"
      ],
      "metadata": {
        "colab": {
          "base_uri": "https://localhost:8080/"
        },
        "id": "FbhFGQSWmr5n",
        "outputId": "0a5a7316-05f2-4ecf-b1fe-dd3508f135b8"
      },
      "execution_count": null,
      "outputs": [
        {
          "output_type": "stream",
          "name": "stdout",
          "text": [
            "x : Size=5, Index=x_index\n",
            "    Key : Lower : Value : Upper : Fixed : Stale : Domain\n",
            "      1 :     0 :  None :  None : False :  True : NonNegativeIntegers\n",
            "      2 :     0 :  None :  None : False :  True : NonNegativeIntegers\n",
            "      3 :     0 :  None :  None : False :  True : NonNegativeIntegers\n",
            "      4 :     0 :  None :  None : False :  True : NonNegativeIntegers\n",
            "      5 :     0 :  None :  None : False :  True : NonNegativeIntegers\n"
          ]
        }
      ]
    },
    {
      "cell_type": "code",
      "source": [
        "#Constraints:\n",
        "Nx = len(x)\n",
        "sumx = sum(  [ x[i] for i in range(1, Nx+1) ]  )\n",
        "model.C1 = pyo.Constraint( expr =  sumx +  y  <= 20  )\n",
        "\n",
        "model.C2 = pyo.ConstraintList()\n",
        "for i in range(1, Nx+1):\n",
        "  model.C2.add(expr = x[i]+y >= 15)\n",
        "\n",
        "sum2 = sum([x[i]*i for i in range(1, len(x)+1)])\n",
        "model.C3 = pyo.Constraint( expr = sum2  >=10  )\n",
        "\n",
        "model.C4 =  pyo.Constraint( expr = x[5]+2*y >= 30 )\n"
      ],
      "metadata": {
        "id": "JVNFXLFloINY"
      },
      "execution_count": null,
      "outputs": []
    },
    {
      "cell_type": "code",
      "source": [
        "model.obj = pyo.Objective(expr = sumx + y, sense=minimize)"
      ],
      "metadata": {
        "id": "fM1jxMcy7gjS"
      },
      "execution_count": null,
      "outputs": []
    },
    {
      "cell_type": "code",
      "source": [
        "!apt install glpk-utils\n",
        "!pip install glpk"
      ],
      "metadata": {
        "colab": {
          "base_uri": "https://localhost:8080/"
        },
        "id": "O9tJK2FAA_lk",
        "outputId": "57e76983-a5d8-41ea-8ef0-f92c53f057b6"
      },
      "execution_count": null,
      "outputs": [
        {
          "output_type": "stream",
          "name": "stdout",
          "text": [
            "Reading package lists... Done\n",
            "Building dependency tree       \n",
            "Reading state information... Done\n",
            "glpk-utils is already the newest version (4.65-1).\n",
            "The following package was automatically installed and is no longer required:\n",
            "  libnvidia-common-460\n",
            "Use 'apt autoremove' to remove it.\n",
            "0 upgraded, 0 newly installed, 0 to remove and 49 not upgraded.\n",
            "Looking in indexes: https://pypi.org/simple, https://us-python.pkg.dev/colab-wheels/public/simple/\n",
            "Collecting glpk\n",
            "  Using cached glpk-0.4.6.tar.gz (153 kB)\n",
            "  Installing build dependencies ... \u001b[?25l\u001b[?25hdone\n",
            "  Getting requirements to build wheel ... \u001b[?25l\u001b[?25hdone\n",
            "    Preparing wheel metadata ... \u001b[?25l\u001b[?25hdone\n",
            "Building wheels for collected packages: glpk\n",
            "  Building wheel for glpk (PEP 517) ... \u001b[?25l\u001b[?25herror\n",
            "\u001b[31m  ERROR: Failed building wheel for glpk\u001b[0m\n",
            "Failed to build glpk\n",
            "\u001b[31mERROR: Could not build wheels for glpk which use PEP 517 and cannot be installed directly\u001b[0m\n"
          ]
        }
      ]
    },
    {
      "cell_type": "code",
      "source": [
        "!apt-get install -y -qq coinor-cbc"
      ],
      "metadata": {
        "colab": {
          "base_uri": "https://localhost:8080/"
        },
        "id": "5qdl63P_HObb",
        "outputId": "bc974802-1d2c-4f63-ed88-950e0421b5c0"
      },
      "execution_count": null,
      "outputs": [
        {
          "output_type": "stream",
          "name": "stdout",
          "text": [
            "Selecting previously unselected package coinor-libcoinutils3v5.\n",
            "(Reading database ... \r(Reading database ... 5%\r(Reading database ... 10%\r(Reading database ... 15%\r(Reading database ... 20%\r(Reading database ... 25%\r(Reading database ... 30%\r(Reading database ... 35%\r(Reading database ... 40%\r(Reading database ... 45%\r(Reading database ... 50%\r(Reading database ... 55%\r(Reading database ... 60%\r(Reading database ... 65%\r(Reading database ... 70%\r(Reading database ... 75%\r(Reading database ... 80%\r(Reading database ... 85%\r(Reading database ... 90%\r(Reading database ... 95%\r(Reading database ... 100%\r(Reading database ... 155842 files and directories currently installed.)\n",
            "Preparing to unpack .../0-coinor-libcoinutils3v5_2.10.14+repack1-1_amd64.deb ...\n",
            "Unpacking coinor-libcoinutils3v5 (2.10.14+repack1-1) ...\n",
            "Selecting previously unselected package coinor-libosi1v5.\n",
            "Preparing to unpack .../1-coinor-libosi1v5_0.107.9+repack1-1_amd64.deb ...\n",
            "Unpacking coinor-libosi1v5 (0.107.9+repack1-1) ...\n",
            "Selecting previously unselected package coinor-libclp1.\n",
            "Preparing to unpack .../2-coinor-libclp1_1.16.11+repack1-1_amd64.deb ...\n",
            "Unpacking coinor-libclp1 (1.16.11+repack1-1) ...\n",
            "Selecting previously unselected package coinor-libcgl1.\n",
            "Preparing to unpack .../3-coinor-libcgl1_0.59.10+repack1-1_amd64.deb ...\n",
            "Unpacking coinor-libcgl1 (0.59.10+repack1-1) ...\n",
            "Selecting previously unselected package coinor-libcbc3.\n",
            "Preparing to unpack .../4-coinor-libcbc3_2.9.9+repack1-1_amd64.deb ...\n",
            "Unpacking coinor-libcbc3 (2.9.9+repack1-1) ...\n",
            "Selecting previously unselected package coinor-cbc.\n",
            "Preparing to unpack .../5-coinor-cbc_2.9.9+repack1-1_amd64.deb ...\n",
            "Unpacking coinor-cbc (2.9.9+repack1-1) ...\n",
            "Setting up coinor-libcoinutils3v5 (2.10.14+repack1-1) ...\n",
            "Setting up coinor-libosi1v5 (0.107.9+repack1-1) ...\n",
            "Setting up coinor-libclp1 (1.16.11+repack1-1) ...\n",
            "Setting up coinor-libcgl1 (0.59.10+repack1-1) ...\n",
            "Setting up coinor-libcbc3 (2.9.9+repack1-1) ...\n",
            "Setting up coinor-cbc (2.9.9+repack1-1) ...\n",
            "Processing triggers for man-db (2.8.3-2ubuntu0.1) ...\n",
            "Processing triggers for libc-bin (2.27-3ubuntu1.3) ...\n",
            "/sbin/ldconfig.real: /usr/local/lib/python3.7/dist-packages/ideep4py/lib/libmkldnn.so.0 is not a symbolic link\n",
            "\n"
          ]
        }
      ]
    },
    {
      "cell_type": "code",
      "source": [
        "!wget -N -q \"https://ampl.com/dl/open/ipopt/ipopt-linux64.zip\"\n",
        "!unzip -o -q ipopt-linux64"
      ],
      "metadata": {
        "id": "vBPG72L6MFxy"
      },
      "execution_count": null,
      "outputs": []
    },
    {
      "cell_type": "code",
      "source": [
        "!wget -N -q \"https://ampl.com/dl/open/couenne/couenne-linux64.zip\"\n",
        "!unzip -o -q couenne-linux64"
      ],
      "metadata": {
        "id": "BGEffekZUdxA"
      },
      "execution_count": null,
      "outputs": []
    },
    {
      "cell_type": "code",
      "source": [
        "\n",
        "begin = time.time()\n",
        "\n",
        "opt = SolverFactory('cbc', executable='/usr/bin/cbc')    # CBC, Gurobi, Cplex, Glop --> from google\n",
        "results = opt.solve(model)\n",
        "\n",
        "duration = time.time() - begin\n",
        "print('Time passed = {}'.format(duration))\n"
      ],
      "metadata": {
        "colab": {
          "base_uri": "https://localhost:8080/"
        },
        "id": "f1iROE80BD9S",
        "outputId": "437df2cb-01ae-4e7b-8529-e6829edc82f2"
      },
      "execution_count": null,
      "outputs": [
        {
          "output_type": "stream",
          "name": "stdout",
          "text": [
            "Time passed = 0.054369211196899414\n"
          ]
        }
      ]
    },
    {
      "cell_type": "code",
      "source": [
        "\n",
        "begin = time.time()\n",
        "\n",
        "opt = SolverFactory('glpk')    \n",
        "results = opt.solve(model)\n",
        "\n",
        "duration = time.time() - begin\n",
        "print('Time passed = {}'.format(duration))"
      ],
      "metadata": {
        "colab": {
          "base_uri": "https://localhost:8080/"
        },
        "id": "Do7C443BHgGS",
        "outputId": "19d613e8-382b-4916-b29e-006f0d74706f"
      },
      "execution_count": null,
      "outputs": [
        {
          "output_type": "stream",
          "name": "stdout",
          "text": [
            "Time passed = 0.02507781982421875\n"
          ]
        }
      ]
    },
    {
      "cell_type": "code",
      "source": [
        "begin = time.time()\n",
        "\n",
        "opt = SolverFactory('ipopt', executable='/content/ipopt')\n",
        "results = opt.solve(model)\n",
        "\n",
        "duration = time.time() - begin\n",
        "print('Time passed = {}'.format(duration))"
      ],
      "metadata": {
        "colab": {
          "base_uri": "https://localhost:8080/"
        },
        "id": "gDc5oD8IMI3p",
        "outputId": "773f2a8d-e0d1-40fa-d35b-05a460688684"
      },
      "execution_count": null,
      "outputs": [
        {
          "output_type": "stream",
          "name": "stdout",
          "text": [
            "Time passed = 0.031111478805541992\n"
          ]
        }
      ]
    },
    {
      "cell_type": "code",
      "source": [
        "begin = time.time()\n",
        "\n",
        "opt = SolverFactory('couenne', executable='/content/couenne')\n",
        "results = opt.solve(model)\n",
        "\n",
        "duration = time.time() - begin\n",
        "print('Time passed = {}'.format(duration))"
      ],
      "metadata": {
        "colab": {
          "base_uri": "https://localhost:8080/"
        },
        "id": "H-5oc52NUgxQ",
        "outputId": "d0807c5d-b1cf-4314-8c38-2cabbb0e9250"
      },
      "execution_count": null,
      "outputs": [
        {
          "output_type": "stream",
          "name": "stdout",
          "text": [
            "Time passed = 0.05847978591918945\n"
          ]
        }
      ]
    },
    {
      "cell_type": "code",
      "source": [
        "for i in range(1,6):\n",
        "  print('x[{}] = {}'.format(i, pyo.value(x[i])))\n",
        "print('y= {}'.format(pyo.value(y)))\n",
        "print('Objective function value ={}'.format(pyo.value(model.obj)))"
      ],
      "metadata": {
        "colab": {
          "base_uri": "https://localhost:8080/"
        },
        "id": "5oAbVVZOBTCq",
        "outputId": "ba35e5e2-d2df-4f98-bd50-8861e1b4b1b6"
      },
      "execution_count": null,
      "outputs": [
        {
          "output_type": "stream",
          "name": "stdout",
          "text": [
            "x[1] = 0.0\n",
            "x[2] = 0.0\n",
            "x[3] = 0.0\n",
            "x[4] = 0.0\n",
            "x[5] = 2.0\n",
            "y= 15.0\n",
            "Objective function value =17.0\n"
          ]
        }
      ]
    },
    {
      "cell_type": "code",
      "source": [
        ""
      ],
      "metadata": {
        "id": "7gjlUDymBWyi"
      },
      "execution_count": null,
      "outputs": []
    }
  ]
}