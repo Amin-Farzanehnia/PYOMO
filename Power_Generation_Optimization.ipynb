{
  "nbformat": 4,
  "nbformat_minor": 0,
  "metadata": {
    "colab": {
      "name": "Power Generation Optimization.ipynb",
      "provenance": [],
      "authorship_tag": "ABX9TyMaf2GCeDM4Wf3qpeLpR6eT",
      "include_colab_link": true
    },
    "kernelspec": {
      "name": "python3",
      "display_name": "Python 3"
    },
    "language_info": {
      "name": "python"
    }
  },
  "cells": [
    {
      "cell_type": "markdown",
      "metadata": {
        "id": "view-in-github",
        "colab_type": "text"
      },
      "source": [
        "<a href=\"https://colab.research.google.com/github/farzanehnia/PYOMO/blob/main/Power_Generation_Optimization.ipynb\" target=\"_parent\"><img src=\"https://colab.research.google.com/assets/colab-badge.svg\" alt=\"Open In Colab\"/></a>"
      ]
    },
    {
      "cell_type": "code",
      "execution_count": 18,
      "metadata": {
        "id": "9-99IgC1-XZp"
      },
      "outputs": [],
      "source": [
        "pip install -q pyomo"
      ]
    },
    {
      "cell_type": "code",
      "source": [
        "import pyomo.environ as pyo\n",
        "from pyomo.environ import *\n",
        "from pyomo.opt import SolverFactory\n",
        "import pandas as pd"
      ],
      "metadata": {
        "id": "pTxfhnXp_lxU"
      },
      "execution_count": 19,
      "outputs": []
    },
    {
      "cell_type": "code",
      "source": [
        "#inputs\n",
        "!rm inputs.xlsx\n",
        "\n",
        "!wget --show-progress --continue -O /content/inputs.xlsx https://raw.github.com/farzanehnia/PYOMO/main/inputs.xlsx\n",
        "\n",
        "dataGen = pd.read_excel('inputs.xlsx', sheet_name='gen')\n",
        "dataLoad = pd.read_excel('inputs.xlsx', sheet_name='load')\n",
        "\n",
        "Ng = len(dataGen)\n",
        "\n",
        "import re\n",
        "dataLoad['Load Demand'] = dataLoad['Load Demand'].astype('str').str.replace('\\D', \"\").astype('float')\n",
        "dataGen['Power Generation'] = dataGen['Power Generation'].astype('str').str.replace('\\D', \"\").astype('float')\n"
      ],
      "metadata": {
        "colab": {
          "base_uri": "https://localhost:8080/"
        },
        "id": "DH9JchxUAIPD",
        "outputId": "c19d8116-7ed4-4060-ba5d-c940fa849e64"
      },
      "execution_count": 20,
      "outputs": [
        {
          "output_type": "stream",
          "name": "stdout",
          "text": [
            "--2022-07-03 17:53:48--  https://raw.github.com/farzanehnia/PYOMO/main/inputs.xlsx\n",
            "Resolving raw.github.com (raw.github.com)... 185.199.109.133, 185.199.108.133, 185.199.110.133, ...\n",
            "Connecting to raw.github.com (raw.github.com)|185.199.109.133|:443... connected.\n",
            "HTTP request sent, awaiting response... 301 Moved Permanently\n",
            "Location: https://raw.githubusercontent.com/farzanehnia/PYOMO/main/inputs.xlsx [following]\n",
            "--2022-07-03 17:53:48--  https://raw.githubusercontent.com/farzanehnia/PYOMO/main/inputs.xlsx\n",
            "Resolving raw.githubusercontent.com (raw.githubusercontent.com)... 185.199.108.133, 185.199.111.133, 185.199.110.133, ...\n",
            "Connecting to raw.githubusercontent.com (raw.githubusercontent.com)|185.199.108.133|:443... connected.\n",
            "HTTP request sent, awaiting response... 200 OK\n",
            "Length: 9455 (9.2K) [application/octet-stream]\n",
            "Saving to: ‘/content/inputs.xlsx’\n",
            "\n",
            "/content/inputs.xls 100%[===================>]   9.23K  --.-KB/s    in 0s      \n",
            "\n",
            "2022-07-03 17:53:48 (74.0 MB/s) - ‘/content/inputs.xlsx’ saved [9455/9455]\n",
            "\n"
          ]
        },
        {
          "output_type": "stream",
          "name": "stderr",
          "text": [
            "/usr/local/lib/python3.7/dist-packages/ipykernel_launcher.py:12: FutureWarning: The default value of regex will change from True to False in a future version.\n",
            "  if sys.path[0] == '':\n",
            "/usr/local/lib/python3.7/dist-packages/ipykernel_launcher.py:13: FutureWarning: The default value of regex will change from True to False in a future version.\n",
            "  del sys.path[0]\n"
          ]
        }
      ]
    },
    {
      "cell_type": "code",
      "source": [
        "\n",
        "dataGen.head()\n",
        "dataLoad['Load Demand'].loc[0]"
      ],
      "metadata": {
        "colab": {
          "base_uri": "https://localhost:8080/"
        },
        "id": "mV56yQkyfJWa",
        "outputId": "318f9486-6ea4-4f1e-d1ee-16f176224a37"
      },
      "execution_count": 21,
      "outputs": [
        {
          "output_type": "execute_result",
          "data": {
            "text/plain": [
              "50.0"
            ]
          },
          "metadata": {},
          "execution_count": 21
        }
      ]
    },
    {
      "cell_type": "code",
      "source": [
        "#model\n",
        "\n",
        "model = pyo.ConcreteModel()\n",
        "\n",
        "model.Pg = pyo.Var(range(Ng), bounds=(0, None))\n",
        "Pg = model.Pg\n",
        "\n",
        "model.pprint()"
      ],
      "metadata": {
        "colab": {
          "base_uri": "https://localhost:8080/"
        },
        "id": "OhN20nD6bbx3",
        "outputId": "ba762098-a3bf-4ade-c5e9-b610ac98b8a8"
      },
      "execution_count": 22,
      "outputs": [
        {
          "output_type": "stream",
          "name": "stdout",
          "text": [
            "1 Set Declarations\n",
            "    Pg_index : Size=1, Index=None, Ordered=Insertion\n",
            "        Key  : Dimen : Domain : Size : Members\n",
            "        None :     1 :    Any :    5 : {0, 1, 2, 3, 4}\n",
            "\n",
            "1 Var Declarations\n",
            "    Pg : Size=5, Index=Pg_index\n",
            "        Key : Lower : Value : Upper : Fixed : Stale : Domain\n",
            "          0 :     0 :  None :  None : False :  True :  Reals\n",
            "          1 :     0 :  None :  None : False :  True :  Reals\n",
            "          2 :     0 :  None :  None : False :  True :  Reals\n",
            "          3 :     0 :  None :  None : False :  True :  Reals\n",
            "          4 :     0 :  None :  None : False :  True :  Reals\n",
            "\n",
            "2 Declarations: Pg_index Pg\n"
          ]
        }
      ]
    },
    {
      "cell_type": "code",
      "source": [
        "#constraints\n",
        "Pg_sum = sum([Pg[g] for g in dataGen.id])\n",
        "demand_sum = dataLoad['Load Demand'].sum()\n",
        "\n",
        "\n",
        "model.balance = pyo.Constraint(expr = Pg_sum == demand_sum)\n",
        "\n",
        "model.cond = pyo.Constraint(expr = Pg[0]+Pg[3] >= dataLoad['Load Demand'].iloc[0])\n",
        "\n",
        "model.limits = pyo.ConstraintList()\n",
        "for g in dataGen.id:\n",
        "  model.limits.add(expr = Pg[g] <= dataGen['Power Generation'].iloc[g])"
      ],
      "metadata": {
        "id": "bKwzK8hd9cFW"
      },
      "execution_count": 23,
      "outputs": []
    },
    {
      "cell_type": "code",
      "source": [
        "#Obj func\n",
        "\n",
        "model.obj = pyo.Objective(expr = sum([Pg[g]*dataGen.Cost[g] for g in dataGen.id]))\n"
      ],
      "metadata": {
        "id": "O5S6QwgQgcFz"
      },
      "execution_count": 24,
      "outputs": []
    },
    {
      "cell_type": "code",
      "source": [
        "#Cost sumation practice\n",
        "print(sum([Pg[g]*dataGen['Cost'].loc[g] for g in dataGen.id]))\n",
        "print(sum([Pg[g]*dataGen.Cost[g] for g in dataGen.id]))"
      ],
      "metadata": {
        "colab": {
          "base_uri": "https://localhost:8080/"
        },
        "id": "hCFF-pEFgl3Q",
        "outputId": "85f349d0-9e59-48c2-f037-233df74babbd"
      },
      "execution_count": 25,
      "outputs": [
        {
          "output_type": "stream",
          "name": "stdout",
          "text": [
            "0.1*Pg[0] + 0.05*Pg[1] + 0.3*Pg[2] + 0.4*Pg[3] + 0.01*Pg[4]\n",
            "0.1*Pg[0] + 0.05*Pg[1] + 0.3*Pg[2] + 0.4*Pg[3] + 0.01*Pg[4]\n"
          ]
        }
      ]
    },
    {
      "cell_type": "code",
      "source": [
        "!apt install glpk-utils\n",
        "!pip install glpk\n"
      ],
      "metadata": {
        "colab": {
          "base_uri": "https://localhost:8080/"
        },
        "id": "04Vl8M1IvoOO",
        "outputId": "950e411e-22ee-48f6-bc0f-d9e10fd65b76"
      },
      "execution_count": 26,
      "outputs": [
        {
          "output_type": "stream",
          "name": "stdout",
          "text": [
            "Reading package lists... Done\n",
            "Building dependency tree       \n",
            "Reading state information... Done\n",
            "glpk-utils is already the newest version (4.65-1).\n",
            "The following package was automatically installed and is no longer required:\n",
            "  libnvidia-common-460\n",
            "Use 'apt autoremove' to remove it.\n",
            "0 upgraded, 0 newly installed, 0 to remove and 49 not upgraded.\n",
            "Looking in indexes: https://pypi.org/simple, https://us-python.pkg.dev/colab-wheels/public/simple/\n",
            "Collecting glpk\n",
            "  Using cached glpk-0.4.6.tar.gz (153 kB)\n",
            "  Installing build dependencies ... \u001b[?25l\u001b[?25hdone\n",
            "  Getting requirements to build wheel ... \u001b[?25l\u001b[?25hdone\n",
            "    Preparing wheel metadata ... \u001b[?25l\u001b[?25hdone\n",
            "Building wheels for collected packages: glpk\n",
            "  Building wheel for glpk (PEP 517) ... \u001b[?25l\u001b[?25herror\n",
            "\u001b[31m  ERROR: Failed building wheel for glpk\u001b[0m\n",
            "Failed to build glpk\n",
            "\u001b[31mERROR: Could not build wheels for glpk which use PEP 517 and cannot be installed directly\u001b[0m\n"
          ]
        }
      ]
    },
    {
      "cell_type": "code",
      "source": [
        "opt = SolverFactory('glpk') #GLPK,cbc\n",
        "results = opt.solve(model)"
      ],
      "metadata": {
        "id": "SZ3TCWXwwDBo"
      },
      "execution_count": 27,
      "outputs": []
    },
    {
      "cell_type": "code",
      "source": [
        "#print(results)\n",
        "dataGen['Pg'] = [pyo.value(Pg[g]) for g in dataGen.id]\n",
        "dataGen.head()"
      ],
      "metadata": {
        "colab": {
          "base_uri": "https://localhost:8080/",
          "height": 206
        },
        "id": "FvDrJiO7wJBl",
        "outputId": "99a4227e-cbac-41f3-eb1a-b8faea003abf"
      },
      "execution_count": 28,
      "outputs": [
        {
          "output_type": "execute_result",
          "data": {
            "text/plain": [
              "   id  Cost  Power Generation    Pg\n",
              "0   0  0.10              20.0  20.0\n",
              "1   1  0.05              10.0  10.0\n",
              "2   2  0.30              40.0  35.0\n",
              "3   3  0.40              50.0  30.0\n",
              "4   4  0.01               5.0   5.0"
            ],
            "text/html": [
              "\n",
              "  <div id=\"df-9c925d68-e27c-4439-b7ec-7d42c53249de\">\n",
              "    <div class=\"colab-df-container\">\n",
              "      <div>\n",
              "<style scoped>\n",
              "    .dataframe tbody tr th:only-of-type {\n",
              "        vertical-align: middle;\n",
              "    }\n",
              "\n",
              "    .dataframe tbody tr th {\n",
              "        vertical-align: top;\n",
              "    }\n",
              "\n",
              "    .dataframe thead th {\n",
              "        text-align: right;\n",
              "    }\n",
              "</style>\n",
              "<table border=\"1\" class=\"dataframe\">\n",
              "  <thead>\n",
              "    <tr style=\"text-align: right;\">\n",
              "      <th></th>\n",
              "      <th>id</th>\n",
              "      <th>Cost</th>\n",
              "      <th>Power Generation</th>\n",
              "      <th>Pg</th>\n",
              "    </tr>\n",
              "  </thead>\n",
              "  <tbody>\n",
              "    <tr>\n",
              "      <th>0</th>\n",
              "      <td>0</td>\n",
              "      <td>0.10</td>\n",
              "      <td>20.0</td>\n",
              "      <td>20.0</td>\n",
              "    </tr>\n",
              "    <tr>\n",
              "      <th>1</th>\n",
              "      <td>1</td>\n",
              "      <td>0.05</td>\n",
              "      <td>10.0</td>\n",
              "      <td>10.0</td>\n",
              "    </tr>\n",
              "    <tr>\n",
              "      <th>2</th>\n",
              "      <td>2</td>\n",
              "      <td>0.30</td>\n",
              "      <td>40.0</td>\n",
              "      <td>35.0</td>\n",
              "    </tr>\n",
              "    <tr>\n",
              "      <th>3</th>\n",
              "      <td>3</td>\n",
              "      <td>0.40</td>\n",
              "      <td>50.0</td>\n",
              "      <td>30.0</td>\n",
              "    </tr>\n",
              "    <tr>\n",
              "      <th>4</th>\n",
              "      <td>4</td>\n",
              "      <td>0.01</td>\n",
              "      <td>5.0</td>\n",
              "      <td>5.0</td>\n",
              "    </tr>\n",
              "  </tbody>\n",
              "</table>\n",
              "</div>\n",
              "      <button class=\"colab-df-convert\" onclick=\"convertToInteractive('df-9c925d68-e27c-4439-b7ec-7d42c53249de')\"\n",
              "              title=\"Convert this dataframe to an interactive table.\"\n",
              "              style=\"display:none;\">\n",
              "        \n",
              "  <svg xmlns=\"http://www.w3.org/2000/svg\" height=\"24px\"viewBox=\"0 0 24 24\"\n",
              "       width=\"24px\">\n",
              "    <path d=\"M0 0h24v24H0V0z\" fill=\"none\"/>\n",
              "    <path d=\"M18.56 5.44l.94 2.06.94-2.06 2.06-.94-2.06-.94-.94-2.06-.94 2.06-2.06.94zm-11 1L8.5 8.5l.94-2.06 2.06-.94-2.06-.94L8.5 2.5l-.94 2.06-2.06.94zm10 10l.94 2.06.94-2.06 2.06-.94-2.06-.94-.94-2.06-.94 2.06-2.06.94z\"/><path d=\"M17.41 7.96l-1.37-1.37c-.4-.4-.92-.59-1.43-.59-.52 0-1.04.2-1.43.59L10.3 9.45l-7.72 7.72c-.78.78-.78 2.05 0 2.83L4 21.41c.39.39.9.59 1.41.59.51 0 1.02-.2 1.41-.59l7.78-7.78 2.81-2.81c.8-.78.8-2.07 0-2.86zM5.41 20L4 18.59l7.72-7.72 1.47 1.35L5.41 20z\"/>\n",
              "  </svg>\n",
              "      </button>\n",
              "      \n",
              "  <style>\n",
              "    .colab-df-container {\n",
              "      display:flex;\n",
              "      flex-wrap:wrap;\n",
              "      gap: 12px;\n",
              "    }\n",
              "\n",
              "    .colab-df-convert {\n",
              "      background-color: #E8F0FE;\n",
              "      border: none;\n",
              "      border-radius: 50%;\n",
              "      cursor: pointer;\n",
              "      display: none;\n",
              "      fill: #1967D2;\n",
              "      height: 32px;\n",
              "      padding: 0 0 0 0;\n",
              "      width: 32px;\n",
              "    }\n",
              "\n",
              "    .colab-df-convert:hover {\n",
              "      background-color: #E2EBFA;\n",
              "      box-shadow: 0px 1px 2px rgba(60, 64, 67, 0.3), 0px 1px 3px 1px rgba(60, 64, 67, 0.15);\n",
              "      fill: #174EA6;\n",
              "    }\n",
              "\n",
              "    [theme=dark] .colab-df-convert {\n",
              "      background-color: #3B4455;\n",
              "      fill: #D2E3FC;\n",
              "    }\n",
              "\n",
              "    [theme=dark] .colab-df-convert:hover {\n",
              "      background-color: #434B5C;\n",
              "      box-shadow: 0px 1px 3px 1px rgba(0, 0, 0, 0.15);\n",
              "      filter: drop-shadow(0px 1px 2px rgba(0, 0, 0, 0.3));\n",
              "      fill: #FFFFFF;\n",
              "    }\n",
              "  </style>\n",
              "\n",
              "      <script>\n",
              "        const buttonEl =\n",
              "          document.querySelector('#df-9c925d68-e27c-4439-b7ec-7d42c53249de button.colab-df-convert');\n",
              "        buttonEl.style.display =\n",
              "          google.colab.kernel.accessAllowed ? 'block' : 'none';\n",
              "\n",
              "        async function convertToInteractive(key) {\n",
              "          const element = document.querySelector('#df-9c925d68-e27c-4439-b7ec-7d42c53249de');\n",
              "          const dataTable =\n",
              "            await google.colab.kernel.invokeFunction('convertToInteractive',\n",
              "                                                     [key], {});\n",
              "          if (!dataTable) return;\n",
              "\n",
              "          const docLinkHtml = 'Like what you see? Visit the ' +\n",
              "            '<a target=\"_blank\" href=https://colab.research.google.com/notebooks/data_table.ipynb>data table notebook</a>'\n",
              "            + ' to learn more about interactive tables.';\n",
              "          element.innerHTML = '';\n",
              "          dataTable['output_type'] = 'display_data';\n",
              "          await google.colab.output.renderOutput(dataTable, element);\n",
              "          const docLink = document.createElement('div');\n",
              "          docLink.innerHTML = docLinkHtml;\n",
              "          element.appendChild(docLink);\n",
              "        }\n",
              "      </script>\n",
              "    </div>\n",
              "  </div>\n",
              "  "
            ]
          },
          "metadata": {},
          "execution_count": 28
        }
      ]
    },
    {
      "cell_type": "code",
      "source": [
        "model.Pg.pprint()"
      ],
      "metadata": {
        "colab": {
          "base_uri": "https://localhost:8080/"
        },
        "id": "87V84bFSwbP9",
        "outputId": "a745da6d-8e78-412a-8584-1299c20995d6"
      },
      "execution_count": 29,
      "outputs": [
        {
          "output_type": "stream",
          "name": "stdout",
          "text": [
            "Pg : Size=5, Index=Pg_index\n",
            "    Key : Lower : Value : Upper : Fixed : Stale : Domain\n",
            "      0 :     0 :  20.0 :  None : False : False :  Reals\n",
            "      1 :     0 :  10.0 :  None : False : False :  Reals\n",
            "      2 :     0 :  35.0 :  None : False : False :  Reals\n",
            "      3 :     0 :  30.0 :  None : False : False :  Reals\n",
            "      4 :     0 :   5.0 :  None : False : False :  Reals\n"
          ]
        }
      ]
    },
    {
      "cell_type": "code",
      "source": [
        "model.cond.pprint()"
      ],
      "metadata": {
        "colab": {
          "base_uri": "https://localhost:8080/"
        },
        "id": "LwDywEn_xcbt",
        "outputId": "d2bd2ff1-5e4f-4ea0-c52a-b4573125fdd6"
      },
      "execution_count": 30,
      "outputs": [
        {
          "output_type": "stream",
          "name": "stdout",
          "text": [
            "cond : Size=1, Index=None, Active=True\n",
            "    Key  : Lower : Body          : Upper : Active\n",
            "    None :  50.0 : Pg[0] + Pg[3] :  +Inf :   True\n"
          ]
        }
      ]
    },
    {
      "cell_type": "code",
      "source": [
        ""
      ],
      "metadata": {
        "id": "zICT3hKmxsWF"
      },
      "execution_count": 30,
      "outputs": []
    }
  ]
}