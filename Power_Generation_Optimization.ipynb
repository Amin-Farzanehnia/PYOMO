{
  "nbformat": 4,
  "nbformat_minor": 0,
  "metadata": {
    "colab": {
      "name": "Power Generation Optimization.ipynb",
      "provenance": [],
      "authorship_tag": "ABX9TyMumdFVj6E8CQJCWphAqTgZ",
      "include_colab_link": true
    },
    "kernelspec": {
      "name": "python3",
      "display_name": "Python 3"
    },
    "language_info": {
      "name": "python"
    }
  },
  "cells": [
    {
      "cell_type": "markdown",
      "metadata": {
        "id": "view-in-github",
        "colab_type": "text"
      },
      "source": [
        "<a href=\"https://colab.research.google.com/github/farzanehnia/PYOMO/blob/main/Power_Generation_Optimization.ipynb\" target=\"_parent\"><img src=\"https://colab.research.google.com/assets/colab-badge.svg\" alt=\"Open In Colab\"/></a>"
      ]
    },
    {
      "cell_type": "code",
      "execution_count": 2,
      "metadata": {
        "id": "9-99IgC1-XZp",
        "colab": {
          "base_uri": "https://localhost:8080/"
        },
        "outputId": "cd41e45e-f13c-4215-a4a9-1ecc83085814"
      },
      "outputs": [
        {
          "output_type": "stream",
          "name": "stdout",
          "text": [
            "\u001b[K     |████████████████████████████████| 9.6 MB 15.6 MB/s \n",
            "\u001b[K     |████████████████████████████████| 49 kB 6.0 MB/s \n",
            "\u001b[?25h"
          ]
        }
      ],
      "source": [
        "pip install -q pyomo"
      ]
    },
    {
      "cell_type": "code",
      "source": [
        "import pyomo.environ as pyo\n",
        "from pyomo.environ import *\n",
        "from pyomo.opt import SolverFactory\n",
        "import pandas as pd"
      ],
      "metadata": {
        "id": "pTxfhnXp_lxU"
      },
      "execution_count": 3,
      "outputs": []
    },
    {
      "cell_type": "code",
      "source": [
        "#inputs\n",
        "!rm inputs.xlsx\n",
        "\n",
        "!wget --show-progress --continue -O /content/inputs.xlsx https://raw.github.com/farzanehnia/PYOMO/main/inputs.xlsx\n",
        "\n",
        "dataGen = pd.read_excel('inputs.xlsx', sheet_name='gen')\n",
        "dataLoad = pd.read_excel('inputs.xlsx', sheet_name='load')\n",
        "\n",
        "Ng = len(dataGen)"
      ],
      "metadata": {
        "colab": {
          "base_uri": "https://localhost:8080/"
        },
        "id": "DH9JchxUAIPD",
        "outputId": "96f6a4e3-4e70-4257-bb53-3d604b726526"
      },
      "execution_count": 9,
      "outputs": [
        {
          "output_type": "stream",
          "name": "stdout",
          "text": [
            "--2022-07-03 09:51:01--  https://raw.github.com/farzanehnia/PYOMO/main/inputs.xlsx\n",
            "Resolving raw.github.com (raw.github.com)... 185.199.110.133, 185.199.109.133, 185.199.111.133, ...\n",
            "Connecting to raw.github.com (raw.github.com)|185.199.110.133|:443... connected.\n",
            "HTTP request sent, awaiting response... 301 Moved Permanently\n",
            "Location: https://raw.githubusercontent.com/farzanehnia/PYOMO/main/inputs.xlsx [following]\n",
            "--2022-07-03 09:51:02--  https://raw.githubusercontent.com/farzanehnia/PYOMO/main/inputs.xlsx\n",
            "Resolving raw.githubusercontent.com (raw.githubusercontent.com)... 185.199.108.133, 185.199.109.133, 185.199.110.133, ...\n",
            "Connecting to raw.githubusercontent.com (raw.githubusercontent.com)|185.199.108.133|:443... connected.\n",
            "HTTP request sent, awaiting response... 200 OK\n",
            "Length: 9455 (9.2K) [application/octet-stream]\n",
            "Saving to: ‘/content/inputs.xlsx’\n",
            "\n",
            "/content/inputs.xls 100%[===================>]   9.23K  --.-KB/s    in 0s      \n",
            "\n",
            "2022-07-03 09:51:02 (76.2 MB/s) - ‘/content/inputs.xlsx’ saved [9455/9455]\n",
            "\n"
          ]
        }
      ]
    },
    {
      "cell_type": "code",
      "source": [
        ""
      ],
      "metadata": {
        "id": "OhN20nD6bbx3"
      },
      "execution_count": null,
      "outputs": []
    }
  ]
}